{
 "cells": [
  {
   "cell_type": "code",
   "execution_count": 1,
   "id": "0e6c3e05",
   "metadata": {},
   "outputs": [],
   "source": [
    "import pandas as pd\n",
    "import numpy as np\n",
    "import matplotlib.pyplot as plt\n",
    "import seaborn as sns"
   ]
  },
  {
   "cell_type": "markdown",
   "id": "624b7138",
   "metadata": {},
   "source": [
    "## EV sales till date"
   ]
  },
  {
   "cell_type": "code",
   "execution_count": 2,
   "id": "5e109a85",
   "metadata": {},
   "outputs": [
    {
     "data": {
      "text/html": [
       "<div>\n",
       "<style scoped>\n",
       "    .dataframe tbody tr th:only-of-type {\n",
       "        vertical-align: middle;\n",
       "    }\n",
       "\n",
       "    .dataframe tbody tr th {\n",
       "        vertical-align: top;\n",
       "    }\n",
       "\n",
       "    .dataframe thead th {\n",
       "        text-align: right;\n",
       "    }\n",
       "</style>\n",
       "<table border=\"1\" class=\"dataframe\">\n",
       "  <thead>\n",
       "    <tr style=\"text-align: right;\">\n",
       "      <th></th>\n",
       "      <th>Sl. No.</th>\n",
       "      <th>Category</th>\n",
       "      <th>Vehicle Class</th>\n",
       "      <th>Total Registered on VAHAN 4.0</th>\n",
       "    </tr>\n",
       "  </thead>\n",
       "  <tbody>\n",
       "    <tr>\n",
       "      <th>0</th>\n",
       "      <td>1</td>\n",
       "      <td>Transport Vehicles</td>\n",
       "      <td>Motor Cycle/Scooter-SideCar (T)</td>\n",
       "      <td>8</td>\n",
       "    </tr>\n",
       "  </tbody>\n",
       "</table>\n",
       "</div>"
      ],
      "text/plain": [
       "  Sl. No.             Category                    Vehicle Class  \\\n",
       "0       1  Transport Vehicles   Motor Cycle/Scooter-SideCar (T)   \n",
       "\n",
       "   Total Registered on VAHAN 4.0  \n",
       "0                              8  "
      ]
     },
     "execution_count": 2,
     "metadata": {},
     "output_type": "execute_result"
    }
   ],
   "source": [
    "df=pd.read_csv(\"EV sales till date by category.csv\")\n",
    "df.head(1)"
   ]
  },
  {
   "cell_type": "code",
   "execution_count": 3,
   "id": "3fe33a9b",
   "metadata": {},
   "outputs": [],
   "source": [
    "df.drop(['Sl. No.'],axis=1,inplace=True)"
   ]
  },
  {
   "cell_type": "code",
   "execution_count": 4,
   "id": "4f6814dc",
   "metadata": {},
   "outputs": [
    {
     "data": {
      "text/html": [
       "<div>\n",
       "<style scoped>\n",
       "    .dataframe tbody tr th:only-of-type {\n",
       "        vertical-align: middle;\n",
       "    }\n",
       "\n",
       "    .dataframe tbody tr th {\n",
       "        vertical-align: top;\n",
       "    }\n",
       "\n",
       "    .dataframe thead th {\n",
       "        text-align: right;\n",
       "    }\n",
       "</style>\n",
       "<table border=\"1\" class=\"dataframe\">\n",
       "  <thead>\n",
       "    <tr style=\"text-align: right;\">\n",
       "      <th></th>\n",
       "      <th>Category</th>\n",
       "      <th>Vehicle Class</th>\n",
       "      <th>Total Registered on VAHAN 4.0</th>\n",
       "    </tr>\n",
       "  </thead>\n",
       "  <tbody>\n",
       "    <tr>\n",
       "      <th>0</th>\n",
       "      <td>Transport Vehicles</td>\n",
       "      <td>Motor Cycle/Scooter-SideCar (T)</td>\n",
       "      <td>8</td>\n",
       "    </tr>\n",
       "    <tr>\n",
       "      <th>1</th>\n",
       "      <td>Transport Vehicles</td>\n",
       "      <td>Motor Cycle/Scooter-Used For Hire</td>\n",
       "      <td>4468</td>\n",
       "    </tr>\n",
       "    <tr>\n",
       "      <th>2</th>\n",
       "      <td>Transport Vehicles</td>\n",
       "      <td>E-Rickshaw (P)</td>\n",
       "      <td>495781</td>\n",
       "    </tr>\n",
       "    <tr>\n",
       "      <th>3</th>\n",
       "      <td>Transport Vehicles</td>\n",
       "      <td>E-Rickshaw with Cart (G)</td>\n",
       "      <td>21871</td>\n",
       "    </tr>\n",
       "    <tr>\n",
       "      <th>4</th>\n",
       "      <td>Transport Vehicles</td>\n",
       "      <td>Three Wheeler (Goods)</td>\n",
       "      <td>2630</td>\n",
       "    </tr>\n",
       "    <tr>\n",
       "      <th>5</th>\n",
       "      <td>Transport Vehicles</td>\n",
       "      <td>Three Wheeler (Passenger)</td>\n",
       "      <td>18268</td>\n",
       "    </tr>\n",
       "    <tr>\n",
       "      <th>6</th>\n",
       "      <td>Transport Vehicles</td>\n",
       "      <td>Luxury Cab</td>\n",
       "      <td>70</td>\n",
       "    </tr>\n",
       "    <tr>\n",
       "      <th>7</th>\n",
       "      <td>Transport Vehicles</td>\n",
       "      <td>Maxi Cab</td>\n",
       "      <td>158</td>\n",
       "    </tr>\n",
       "    <tr>\n",
       "      <th>8</th>\n",
       "      <td>Transport Vehicles</td>\n",
       "      <td>Motor Cab</td>\n",
       "      <td>3267</td>\n",
       "    </tr>\n",
       "    <tr>\n",
       "      <th>9</th>\n",
       "      <td>Transport Vehicles</td>\n",
       "      <td>Omni Bus</td>\n",
       "      <td>65</td>\n",
       "    </tr>\n",
       "    <tr>\n",
       "      <th>10</th>\n",
       "      <td>Transport Vehicles</td>\n",
       "      <td>Bus</td>\n",
       "      <td>1298</td>\n",
       "    </tr>\n",
       "    <tr>\n",
       "      <th>11</th>\n",
       "      <td>Transport Vehicles</td>\n",
       "      <td>Educational Institution Bus</td>\n",
       "      <td>9</td>\n",
       "    </tr>\n",
       "    <tr>\n",
       "      <th>12</th>\n",
       "      <td>Transport Vehicles</td>\n",
       "      <td>Goods Carrier</td>\n",
       "      <td>2591</td>\n",
       "    </tr>\n",
       "    <tr>\n",
       "      <th>13</th>\n",
       "      <td>Transport Vehicles</td>\n",
       "      <td>Private Service Vehicle</td>\n",
       "      <td>7</td>\n",
       "    </tr>\n",
       "    <tr>\n",
       "      <th>14</th>\n",
       "      <td>Transport Vehicles</td>\n",
       "      <td>Grand Total</td>\n",
       "      <td>550491</td>\n",
       "    </tr>\n",
       "    <tr>\n",
       "      <th>15</th>\n",
       "      <td>Non-Transport Vehicles</td>\n",
       "      <td>M-Cycle/Scooter</td>\n",
       "      <td>135691</td>\n",
       "    </tr>\n",
       "    <tr>\n",
       "      <th>16</th>\n",
       "      <td>Non-Transport Vehicles</td>\n",
       "      <td>M-Cycle/Scooter-With Side Car</td>\n",
       "      <td>121</td>\n",
       "    </tr>\n",
       "    <tr>\n",
       "      <th>17</th>\n",
       "      <td>Non-Transport Vehicles</td>\n",
       "      <td>Motorised Cycle (CC &gt; 25cc)</td>\n",
       "      <td>4246</td>\n",
       "    </tr>\n",
       "    <tr>\n",
       "      <th>18</th>\n",
       "      <td>Non-Transport Vehicles</td>\n",
       "      <td>Moped</td>\n",
       "      <td>13001</td>\n",
       "    </tr>\n",
       "    <tr>\n",
       "      <th>19</th>\n",
       "      <td>Non-Transport Vehicles</td>\n",
       "      <td>Motor Car</td>\n",
       "      <td>15700</td>\n",
       "    </tr>\n",
       "    <tr>\n",
       "      <th>20</th>\n",
       "      <td>Non-Transport Vehicles</td>\n",
       "      <td>Adapted Vehicle</td>\n",
       "      <td>62</td>\n",
       "    </tr>\n",
       "    <tr>\n",
       "      <th>21</th>\n",
       "      <td>Non-Transport Vehicles</td>\n",
       "      <td>Three Wheeler (Personal)</td>\n",
       "      <td>300</td>\n",
       "    </tr>\n",
       "    <tr>\n",
       "      <th>22</th>\n",
       "      <td>Non-Transport Vehicles</td>\n",
       "      <td>Omni Bus (Private Use)</td>\n",
       "      <td>14</td>\n",
       "    </tr>\n",
       "    <tr>\n",
       "      <th>23</th>\n",
       "      <td>Non-Transport Vehicles</td>\n",
       "      <td>Private Service Vehicle (Individual Use)</td>\n",
       "      <td>11</td>\n",
       "    </tr>\n",
       "    <tr>\n",
       "      <th>24</th>\n",
       "      <td>Non-Transport Vehicles</td>\n",
       "      <td>Construction Equipment Vehicle</td>\n",
       "      <td>489</td>\n",
       "    </tr>\n",
       "    <tr>\n",
       "      <th>25</th>\n",
       "      <td>Non-Transport Vehicles</td>\n",
       "      <td>Fork Lift</td>\n",
       "      <td>334</td>\n",
       "    </tr>\n",
       "    <tr>\n",
       "      <th>26</th>\n",
       "      <td>Non-Transport Vehicles</td>\n",
       "      <td>Grand Total</td>\n",
       "      <td>169969</td>\n",
       "    </tr>\n",
       "  </tbody>\n",
       "</table>\n",
       "</div>"
      ],
      "text/plain": [
       "                  Category                             Vehicle Class  \\\n",
       "0      Transport Vehicles            Motor Cycle/Scooter-SideCar (T)   \n",
       "1      Transport Vehicles          Motor Cycle/Scooter-Used For Hire   \n",
       "2      Transport Vehicles                             E-Rickshaw (P)   \n",
       "3      Transport Vehicles                   E-Rickshaw with Cart (G)   \n",
       "4      Transport Vehicles                      Three Wheeler (Goods)   \n",
       "5      Transport Vehicles                  Three Wheeler (Passenger)   \n",
       "6      Transport Vehicles                                 Luxury Cab   \n",
       "7      Transport Vehicles                                   Maxi Cab   \n",
       "8      Transport Vehicles                                  Motor Cab   \n",
       "9      Transport Vehicles                                   Omni Bus   \n",
       "10     Transport Vehicles                                        Bus   \n",
       "11     Transport Vehicles                Educational Institution Bus   \n",
       "12     Transport Vehicles                              Goods Carrier   \n",
       "13     Transport Vehicles                    Private Service Vehicle   \n",
       "14     Transport Vehicles                                Grand Total   \n",
       "15  Non-Transport Vehicles                           M-Cycle/Scooter   \n",
       "16  Non-Transport Vehicles             M-Cycle/Scooter-With Side Car   \n",
       "17  Non-Transport Vehicles               Motorised Cycle (CC > 25cc)   \n",
       "18  Non-Transport Vehicles                                     Moped   \n",
       "19  Non-Transport Vehicles                                 Motor Car   \n",
       "20  Non-Transport Vehicles                           Adapted Vehicle   \n",
       "21  Non-Transport Vehicles                  Three Wheeler (Personal)   \n",
       "22  Non-Transport Vehicles                    Omni Bus (Private Use)   \n",
       "23  Non-Transport Vehicles  Private Service Vehicle (Individual Use)   \n",
       "24  Non-Transport Vehicles            Construction Equipment Vehicle   \n",
       "25  Non-Transport Vehicles                                 Fork Lift   \n",
       "26  Non-Transport Vehicles                               Grand Total   \n",
       "\n",
       "    Total Registered on VAHAN 4.0  \n",
       "0                               8  \n",
       "1                            4468  \n",
       "2                          495781  \n",
       "3                           21871  \n",
       "4                            2630  \n",
       "5                           18268  \n",
       "6                              70  \n",
       "7                             158  \n",
       "8                            3267  \n",
       "9                              65  \n",
       "10                           1298  \n",
       "11                              9  \n",
       "12                           2591  \n",
       "13                              7  \n",
       "14                         550491  \n",
       "15                         135691  \n",
       "16                            121  \n",
       "17                           4246  \n",
       "18                          13001  \n",
       "19                          15700  \n",
       "20                             62  \n",
       "21                            300  \n",
       "22                             14  \n",
       "23                             11  \n",
       "24                            489  \n",
       "25                            334  \n",
       "26                         169969  "
      ]
     },
     "execution_count": 4,
     "metadata": {},
     "output_type": "execute_result"
    }
   ],
   "source": [
    "df"
   ]
  },
  {
   "cell_type": "code",
   "execution_count": 5,
   "id": "066ad8a6",
   "metadata": {},
   "outputs": [],
   "source": [
    "df.drop([14,26],inplace=True)"
   ]
  },
  {
   "cell_type": "code",
   "execution_count": 6,
   "id": "389b1e3d",
   "metadata": {},
   "outputs": [
    {
     "data": {
      "text/html": [
       "<div>\n",
       "<style scoped>\n",
       "    .dataframe tbody tr th:only-of-type {\n",
       "        vertical-align: middle;\n",
       "    }\n",
       "\n",
       "    .dataframe tbody tr th {\n",
       "        vertical-align: top;\n",
       "    }\n",
       "\n",
       "    .dataframe thead th {\n",
       "        text-align: right;\n",
       "    }\n",
       "</style>\n",
       "<table border=\"1\" class=\"dataframe\">\n",
       "  <thead>\n",
       "    <tr style=\"text-align: right;\">\n",
       "      <th></th>\n",
       "      <th>Total Registered on VAHAN 4.0</th>\n",
       "    </tr>\n",
       "    <tr>\n",
       "      <th>Category</th>\n",
       "      <th></th>\n",
       "    </tr>\n",
       "  </thead>\n",
       "  <tbody>\n",
       "    <tr>\n",
       "      <th>Non-Transport Vehicles</th>\n",
       "      <td>169969</td>\n",
       "    </tr>\n",
       "    <tr>\n",
       "      <th>Transport Vehicles</th>\n",
       "      <td>550491</td>\n",
       "    </tr>\n",
       "  </tbody>\n",
       "</table>\n",
       "</div>"
      ],
      "text/plain": [
       "                        Total Registered on VAHAN 4.0\n",
       "Category                                             \n",
       "Non-Transport Vehicles                         169969\n",
       "Transport Vehicles                             550491"
      ]
     },
     "execution_count": 6,
     "metadata": {},
     "output_type": "execute_result"
    }
   ],
   "source": [
    "df.groupby('Category').sum()"
   ]
  },
  {
   "cell_type": "code",
   "execution_count": 7,
   "id": "84a25866",
   "metadata": {},
   "outputs": [
    {
     "data": {
      "text/plain": [
       "<AxesSubplot:xlabel='Category'>"
      ]
     },
     "execution_count": 7,
     "metadata": {},
     "output_type": "execute_result"
    },
    {
     "data": {
      "image/png": "[encoded data removed]",
      "text/plain": [
       "<Figure size 576x432 with 1 Axes>"
      ]
     },
     "metadata": {
      "needs_background": "light"
     },
     "output_type": "display_data"
    }
   ],
   "source": [
    "plt.figure(figsize=(8,6))\n",
    "sns.barplot(x=df.groupby('Category').sum()['Total Registered on VAHAN 4.0'].keys(),y=df.groupby('Category').sum()['Total Registered on VAHAN 4.0'].values)"
   ]
  },
  {
   "cell_type": "markdown",
   "id": "4e6e185e",
   "metadata": {},
   "source": [
    "##### Lets analyse the distribution in transport and non transport vehicles."
   ]
  },
  {
   "cell_type": "markdown",
   "id": "fbd646d2",
   "metadata": {},
   "source": [
    "### Non-Transport Vehicles sold till date"
   ]
  },
  {
   "cell_type": "code",
   "execution_count": 8,
   "id": "c0e5f40f",
   "metadata": {},
   "outputs": [
    {
     "data": {
      "image/png": "[encoded data removed]",
      "text/plain": [
       "<Figure size 864x432 with 1 Axes>"
      ]
     },
     "metadata": {
      "needs_background": "light"
     },
     "output_type": "display_data"
    }
   ],
   "source": [
    "plt.figure(figsize=(12,6))\n",
    "sns.barplot(x=df[df['Category']=='Non-Transport Vehicles'].sort_values('Total Registered on VAHAN 4.0')['Vehicle Class'],y=df[df['Category']=='Non-Transport Vehicles'].sort_values('Total Registered on VAHAN 4.0')['Total Registered on VAHAN 4.0'])\n",
    "plt.xticks(rotation =45)\n",
    "plt.show()"
   ]
  },
  {
   "cell_type": "markdown",
   "id": "34eabe86",
   "metadata": {},
   "source": [
    "### Transport Vehicles sold till date"
   ]
  },
  {
   "cell_type": "code",
   "execution_count": 9,
   "id": "8ddc3ee1",
   "metadata": {},
   "outputs": [
    {
     "data": {
      "image/png": "[encoded data removed]",
      "text/plain": [
       "<Figure size 864x432 with 1 Axes>"
      ]
     },
     "metadata": {
      "needs_background": "light"
     },
     "output_type": "display_data"
    }
   ],
   "source": [
    "plt.figure(figsize=(12,6))\n",
    "sns.barplot(x=df[df['Category']=='Transport Vehicles '].sort_values('Total Registered on VAHAN 4.0')['Vehicle Class'],y=df[df['Category']=='Transport Vehicles '].sort_values('Total Registered on VAHAN 4.0')['Total Registered on VAHAN 4.0'])\n",
    "plt.xticks(rotation =45)\n",
    "plt.show()"
   ]
  },
  {
   "cell_type": "code",
   "execution_count": null,
   "id": "dd164b85",
   "metadata": {},
   "outputs": [],
   "source": []
  },
  {
   "cell_type": "code",
   "execution_count": null,
   "id": "9e9166cb",
   "metadata": {},
   "outputs": [],
   "source": []
  },
  {
   "cell_type": "markdown",
   "id": "fcedd376",
   "metadata": {},
   "source": [
    "## EV sales trend 2019-22"
   ]
  },
  {
   "cell_type": "code",
   "execution_count": 10,
   "id": "20989eeb",
   "metadata": {},
   "outputs": [
    {
     "data": {
      "text/html": [
       "<div>\n",
       "<style scoped>\n",
       "    .dataframe tbody tr th:only-of-type {\n",
       "        vertical-align: middle;\n",
       "    }\n",
       "\n",
       "    .dataframe tbody tr th {\n",
       "        vertical-align: top;\n",
       "    }\n",
       "\n",
       "    .dataframe thead th {\n",
       "        text-align: right;\n",
       "    }\n",
       "</style>\n",
       "<table border=\"1\" class=\"dataframe\">\n",
       "  <thead>\n",
       "    <tr style=\"text-align: right;\">\n",
       "      <th></th>\n",
       "      <th>Vehicle Category</th>\n",
       "      <th>Type</th>\n",
       "      <th>Sales 2019</th>\n",
       "      <th>Sales 2020</th>\n",
       "      <th>Sales 2021</th>\n",
       "      <th>Sales 2022</th>\n",
       "    </tr>\n",
       "  </thead>\n",
       "  <tbody>\n",
       "    <tr>\n",
       "      <th>0</th>\n",
       "      <td>FOUR WHEELER (INVALID CARRIAGE)</td>\n",
       "      <td>4-W</td>\n",
       "      <td>0</td>\n",
       "      <td>0</td>\n",
       "      <td>2</td>\n",
       "      <td>5</td>\n",
       "    </tr>\n",
       "    <tr>\n",
       "      <th>1</th>\n",
       "      <td>HEAVY PASSENGER VEHICLE</td>\n",
       "      <td>4-W</td>\n",
       "      <td>371</td>\n",
       "      <td>53</td>\n",
       "      <td>922</td>\n",
       "      <td>969</td>\n",
       "    </tr>\n",
       "  </tbody>\n",
       "</table>\n",
       "</div>"
      ],
      "text/plain": [
       "                  Vehicle Category Type  Sales 2019  Sales 2020  Sales 2021  \\\n",
       "0  FOUR WHEELER (INVALID CARRIAGE)  4-W           0           0           2   \n",
       "1          HEAVY PASSENGER VEHICLE  4-W         371          53         922   \n",
       "\n",
       "   Sales 2022  \n",
       "0           5  \n",
       "1         969  "
      ]
     },
     "execution_count": 10,
     "metadata": {},
     "output_type": "execute_result"
    }
   ],
   "source": [
    "df=pd.read_excel(\"EV sales by category 2019-2022.xls\")\n",
    "df.head(2)"
   ]
  },
  {
   "cell_type": "code",
   "execution_count": 11,
   "id": "82a707e9",
   "metadata": {},
   "outputs": [
    {
     "data": {
      "text/html": [
       "<div>\n",
       "<style scoped>\n",
       "    .dataframe tbody tr th:only-of-type {\n",
       "        vertical-align: middle;\n",
       "    }\n",
       "\n",
       "    .dataframe tbody tr th {\n",
       "        vertical-align: top;\n",
       "    }\n",
       "\n",
       "    .dataframe thead th {\n",
       "        text-align: right;\n",
       "    }\n",
       "</style>\n",
       "<table border=\"1\" class=\"dataframe\">\n",
       "  <thead>\n",
       "    <tr style=\"text-align: right;\">\n",
       "      <th></th>\n",
       "      <th>Sales 2019</th>\n",
       "      <th>Sales 2020</th>\n",
       "      <th>Sales 2021</th>\n",
       "      <th>Sales 2022</th>\n",
       "    </tr>\n",
       "    <tr>\n",
       "      <th>Type</th>\n",
       "      <th></th>\n",
       "      <th></th>\n",
       "      <th></th>\n",
       "      <th></th>\n",
       "    </tr>\n",
       "  </thead>\n",
       "  <tbody>\n",
       "    <tr>\n",
       "      <th>2-W</th>\n",
       "      <td>27754</td>\n",
       "      <td>27271</td>\n",
       "      <td>143323</td>\n",
       "      <td>273542</td>\n",
       "    </tr>\n",
       "    <tr>\n",
       "      <th>3-W</th>\n",
       "      <td>131617</td>\n",
       "      <td>88139</td>\n",
       "      <td>153445</td>\n",
       "      <td>155059</td>\n",
       "    </tr>\n",
       "    <tr>\n",
       "      <th>4-W</th>\n",
       "      <td>1930</td>\n",
       "      <td>4219</td>\n",
       "      <td>14608</td>\n",
       "      <td>19187</td>\n",
       "    </tr>\n",
       "  </tbody>\n",
       "</table>\n",
       "</div>"
      ],
      "text/plain": [
       "      Sales 2019  Sales 2020  Sales 2021  Sales 2022\n",
       "Type                                                \n",
       "2-W        27754       27271      143323      273542\n",
       "3-W       131617       88139      153445      155059\n",
       "4-W         1930        4219       14608       19187"
      ]
     },
     "execution_count": 11,
     "metadata": {},
     "output_type": "execute_result"
    }
   ],
   "source": [
    "df.groupby('Type').sum()"
   ]
  },
  {
   "cell_type": "code",
   "execution_count": 12,
   "id": "d0705888",
   "metadata": {},
   "outputs": [
    {
     "data": {
      "text/html": [
       "<div>\n",
       "<style scoped>\n",
       "    .dataframe tbody tr th:only-of-type {\n",
       "        vertical-align: middle;\n",
       "    }\n",
       "\n",
       "    .dataframe tbody tr th {\n",
       "        vertical-align: top;\n",
       "    }\n",
       "\n",
       "    .dataframe thead th {\n",
       "        text-align: right;\n",
       "    }\n",
       "</style>\n",
       "<table border=\"1\" class=\"dataframe\">\n",
       "  <thead>\n",
       "    <tr style=\"text-align: right;\">\n",
       "      <th>Type</th>\n",
       "      <th>2-W</th>\n",
       "      <th>3-W</th>\n",
       "      <th>4-W</th>\n",
       "    </tr>\n",
       "  </thead>\n",
       "  <tbody>\n",
       "    <tr>\n",
       "      <th>Sales 2019</th>\n",
       "      <td>27754</td>\n",
       "      <td>131617</td>\n",
       "      <td>1930</td>\n",
       "    </tr>\n",
       "    <tr>\n",
       "      <th>Sales 2020</th>\n",
       "      <td>27271</td>\n",
       "      <td>88139</td>\n",
       "      <td>4219</td>\n",
       "    </tr>\n",
       "    <tr>\n",
       "      <th>Sales 2021</th>\n",
       "      <td>143323</td>\n",
       "      <td>153445</td>\n",
       "      <td>14608</td>\n",
       "    </tr>\n",
       "    <tr>\n",
       "      <th>Sales 2022</th>\n",
       "      <td>273542</td>\n",
       "      <td>155059</td>\n",
       "      <td>19187</td>\n",
       "    </tr>\n",
       "  </tbody>\n",
       "</table>\n",
       "</div>"
      ],
      "text/plain": [
       "Type           2-W     3-W    4-W\n",
       "Sales 2019   27754  131617   1930\n",
       "Sales 2020   27271   88139   4219\n",
       "Sales 2021  143323  153445  14608\n",
       "Sales 2022  273542  155059  19187"
      ]
     },
     "execution_count": 12,
     "metadata": {},
     "output_type": "execute_result"
    }
   ],
   "source": [
    "df.groupby('Type').sum().transpose()"
   ]
  },
  {
   "cell_type": "code",
   "execution_count": 13,
   "id": "b6a23237",
   "metadata": {},
   "outputs": [
    {
     "data": {
      "text/plain": [
       "Text(0.5, 1.0, '4-W Sales')"
      ]
     },
     "execution_count": 13,
     "metadata": {},
     "output_type": "execute_result"
    },
    {
     "data": {
      "image/png": "[encoded data removed]",
      "text/plain": [
       "<Figure size 1008x648 with 3 Axes>"
      ]
     },
     "metadata": {
      "needs_background": "light"
     },
     "output_type": "display_data"
    }
   ],
   "source": [
    "plt.figure(figsize=(14,9))\n",
    "\n",
    "plt.subplot(2,2,1)\n",
    "sns.barplot(x=df.groupby('Type').sum().loc['2-W'].keys(),y=df.groupby('Type').sum().loc['2-W'].values)\n",
    "plt.title('2-W Sales')\n",
    "\n",
    "plt.subplot(2,2,2)\n",
    "sns.barplot(x=df.groupby('Type').sum().loc['3-W'].keys(),y=df.groupby('Type').sum().loc['3-W'].values)\n",
    "plt.title('3-W Sales')\n",
    "\n",
    "plt.subplot(2,2,3)\n",
    "sns.barplot(x=df.groupby('Type').sum().loc['4-W'].keys(),y=df.groupby('Type').sum().loc['4-W'].values)\n",
    "plt.title('4-W Sales')\n"
   ]
  },
  {
   "cell_type": "code",
   "execution_count": 14,
   "id": "2b9b6399",
   "metadata": {},
   "outputs": [
    {
     "data": {
      "text/html": [
       "<div>\n",
       "<style scoped>\n",
       "    .dataframe tbody tr th:only-of-type {\n",
       "        vertical-align: middle;\n",
       "    }\n",
       "\n",
       "    .dataframe tbody tr th {\n",
       "        vertical-align: top;\n",
       "    }\n",
       "\n",
       "    .dataframe thead th {\n",
       "        text-align: right;\n",
       "    }\n",
       "</style>\n",
       "<table border=\"1\" class=\"dataframe\">\n",
       "  <thead>\n",
       "    <tr style=\"text-align: right;\">\n",
       "      <th></th>\n",
       "      <th>Vehicle Category</th>\n",
       "      <th>Type</th>\n",
       "      <th>Sales 2019</th>\n",
       "      <th>Sales 2020</th>\n",
       "      <th>Sales 2021</th>\n",
       "      <th>Sales 2022</th>\n",
       "    </tr>\n",
       "  </thead>\n",
       "  <tbody>\n",
       "    <tr>\n",
       "      <th>5</th>\n",
       "      <td>MEDIUM PASSENGER VEHICLE</td>\n",
       "      <td>4-W</td>\n",
       "      <td>90</td>\n",
       "      <td>35</td>\n",
       "      <td>254</td>\n",
       "      <td>3</td>\n",
       "    </tr>\n",
       "    <tr>\n",
       "      <th>0</th>\n",
       "      <td>FOUR WHEELER (INVALID CARRIAGE)</td>\n",
       "      <td>4-W</td>\n",
       "      <td>0</td>\n",
       "      <td>0</td>\n",
       "      <td>2</td>\n",
       "      <td>5</td>\n",
       "    </tr>\n",
       "    <tr>\n",
       "      <th>2</th>\n",
       "      <td>LIGHT GOODS VEHICLE</td>\n",
       "      <td>4-W</td>\n",
       "      <td>58</td>\n",
       "      <td>12</td>\n",
       "      <td>986</td>\n",
       "      <td>174</td>\n",
       "    </tr>\n",
       "    <tr>\n",
       "      <th>1</th>\n",
       "      <td>HEAVY PASSENGER VEHICLE</td>\n",
       "      <td>4-W</td>\n",
       "      <td>371</td>\n",
       "      <td>53</td>\n",
       "      <td>922</td>\n",
       "      <td>969</td>\n",
       "    </tr>\n",
       "    <tr>\n",
       "      <th>4</th>\n",
       "      <td>LIGHT PASSENGER VEHICLE</td>\n",
       "      <td>4-W</td>\n",
       "      <td>729</td>\n",
       "      <td>998</td>\n",
       "      <td>743</td>\n",
       "      <td>2093</td>\n",
       "    </tr>\n",
       "    <tr>\n",
       "      <th>3</th>\n",
       "      <td>LIGHT MOTOR VEHICLE</td>\n",
       "      <td>4-W</td>\n",
       "      <td>682</td>\n",
       "      <td>3121</td>\n",
       "      <td>11701</td>\n",
       "      <td>15943</td>\n",
       "    </tr>\n",
       "  </tbody>\n",
       "</table>\n",
       "</div>"
      ],
      "text/plain": [
       "                  Vehicle Category Type  Sales 2019  Sales 2020  Sales 2021  \\\n",
       "5         MEDIUM PASSENGER VEHICLE  4-W          90          35         254   \n",
       "0  FOUR WHEELER (INVALID CARRIAGE)  4-W           0           0           2   \n",
       "2              LIGHT GOODS VEHICLE  4-W          58          12         986   \n",
       "1          HEAVY PASSENGER VEHICLE  4-W         371          53         922   \n",
       "4          LIGHT PASSENGER VEHICLE  4-W         729         998         743   \n",
       "3              LIGHT MOTOR VEHICLE  4-W         682        3121       11701   \n",
       "\n",
       "   Sales 2022  \n",
       "5           3  \n",
       "0           5  \n",
       "2         174  \n",
       "1         969  \n",
       "4        2093  \n",
       "3       15943  "
      ]
     },
     "execution_count": 14,
     "metadata": {},
     "output_type": "execute_result"
    }
   ],
   "source": [
    "df[df['Type']=='4-W'].sort_values('Sales 2022')"
   ]
  },
  {
   "cell_type": "code",
   "execution_count": 15,
   "id": "e0b93b23",
   "metadata": {},
   "outputs": [
    {
     "data": {
      "text/html": [
       "<div>\n",
       "<style scoped>\n",
       "    .dataframe tbody tr th:only-of-type {\n",
       "        vertical-align: middle;\n",
       "    }\n",
       "\n",
       "    .dataframe tbody tr th {\n",
       "        vertical-align: top;\n",
       "    }\n",
       "\n",
       "    .dataframe thead th {\n",
       "        text-align: right;\n",
       "    }\n",
       "</style>\n",
       "<table border=\"1\" class=\"dataframe\">\n",
       "  <thead>\n",
       "    <tr style=\"text-align: right;\">\n",
       "      <th></th>\n",
       "      <th>Vehicle Category</th>\n",
       "      <th>Type</th>\n",
       "      <th>Sales 2019</th>\n",
       "      <th>Sales 2020</th>\n",
       "      <th>Sales 2021</th>\n",
       "      <th>Sales 2022</th>\n",
       "    </tr>\n",
       "  </thead>\n",
       "  <tbody>\n",
       "    <tr>\n",
       "      <th>8</th>\n",
       "      <td>TWO WHEELER (INVALID CARRIAGE)</td>\n",
       "      <td>2-W</td>\n",
       "      <td>29</td>\n",
       "      <td>2</td>\n",
       "      <td>5</td>\n",
       "      <td>7</td>\n",
       "    </tr>\n",
       "    <tr>\n",
       "      <th>10</th>\n",
       "      <td>TWO WHEELER(T)</td>\n",
       "      <td>2-W</td>\n",
       "      <td>1448</td>\n",
       "      <td>2096</td>\n",
       "      <td>1832</td>\n",
       "      <td>2930</td>\n",
       "    </tr>\n",
       "    <tr>\n",
       "      <th>9</th>\n",
       "      <td>TWO WHEELER(NT)</td>\n",
       "      <td>2-W</td>\n",
       "      <td>26277</td>\n",
       "      <td>25173</td>\n",
       "      <td>141486</td>\n",
       "      <td>270605</td>\n",
       "    </tr>\n",
       "  </tbody>\n",
       "</table>\n",
       "</div>"
      ],
      "text/plain": [
       "                  Vehicle Category Type  Sales 2019  Sales 2020  Sales 2021  \\\n",
       "8   TWO WHEELER (INVALID CARRIAGE)  2-W          29           2           5   \n",
       "10                  TWO WHEELER(T)  2-W        1448        2096        1832   \n",
       "9                  TWO WHEELER(NT)  2-W       26277       25173      141486   \n",
       "\n",
       "    Sales 2022  \n",
       "8            7  \n",
       "10        2930  \n",
       "9       270605  "
      ]
     },
     "execution_count": 15,
     "metadata": {},
     "output_type": "execute_result"
    }
   ],
   "source": [
    "df[df['Type']=='2-W'].sort_values('Sales 2022')"
   ]
  },
  {
   "cell_type": "code",
   "execution_count": null,
   "id": "21404bda",
   "metadata": {},
   "outputs": [],
   "source": []
  },
  {
   "cell_type": "markdown",
   "id": "5c157f85",
   "metadata": {},
   "source": [
    "It is clear that 2-W and 3-w are emerging markets, light passengers vehicles(cars) in 4 wheeler and NT non transport in 2 wheeler."
   ]
  },
  {
   "cell_type": "code",
   "execution_count": null,
   "id": "434d7841",
   "metadata": {},
   "outputs": [],
   "source": []
  },
  {
   "cell_type": "code",
   "execution_count": 16,
   "id": "a9ba5ffb",
   "metadata": {},
   "outputs": [],
   "source": [
    "df2=pd.read_excel('EV sales by class 2019-2022.xls')"
   ]
  },
  {
   "cell_type": "code",
   "execution_count": 17,
   "id": "5b7d36f5",
   "metadata": {},
   "outputs": [
    {
     "data": {
      "text/html": [
       "<div>\n",
       "<style scoped>\n",
       "    .dataframe tbody tr th:only-of-type {\n",
       "        vertical-align: middle;\n",
       "    }\n",
       "\n",
       "    .dataframe tbody tr th {\n",
       "        vertical-align: top;\n",
       "    }\n",
       "\n",
       "    .dataframe thead th {\n",
       "        text-align: right;\n",
       "    }\n",
       "</style>\n",
       "<table border=\"1\" class=\"dataframe\">\n",
       "  <thead>\n",
       "    <tr style=\"text-align: right;\">\n",
       "      <th></th>\n",
       "      <th>Vehicle</th>\n",
       "      <th>Sales 2019</th>\n",
       "      <th>Sales 2020</th>\n",
       "      <th>Sales 2021</th>\n",
       "      <th>Sales 2022</th>\n",
       "    </tr>\n",
       "  </thead>\n",
       "  <tbody>\n",
       "    <tr>\n",
       "      <th>8</th>\n",
       "      <td>M-CYCLE/SCOOTER</td>\n",
       "      <td>22904</td>\n",
       "      <td>22965</td>\n",
       "      <td>125904</td>\n",
       "      <td>249409</td>\n",
       "    </tr>\n",
       "    <tr>\n",
       "      <th>3</th>\n",
       "      <td>E-RICKSHAW(P)</td>\n",
       "      <td>125653</td>\n",
       "      <td>80989</td>\n",
       "      <td>132399</td>\n",
       "      <td>133488</td>\n",
       "    </tr>\n",
       "    <tr>\n",
       "      <th>12</th>\n",
       "      <td>MOTOR CAR</td>\n",
       "      <td>679</td>\n",
       "      <td>3116</td>\n",
       "      <td>11681</td>\n",
       "      <td>15912</td>\n",
       "    </tr>\n",
       "    <tr>\n",
       "      <th>10</th>\n",
       "      <td>MOPED</td>\n",
       "      <td>2237</td>\n",
       "      <td>1167</td>\n",
       "      <td>9297</td>\n",
       "      <td>13281</td>\n",
       "    </tr>\n",
       "    <tr>\n",
       "      <th>4</th>\n",
       "      <td>E-RICKSHAW WITH CART(G)</td>\n",
       "      <td>4494</td>\n",
       "      <td>5614</td>\n",
       "      <td>13869</td>\n",
       "      <td>11400</td>\n",
       "    </tr>\n",
       "    <tr>\n",
       "      <th>14</th>\n",
       "      <td>MOTORISED CYCLE (CC &gt; 25CC)</td>\n",
       "      <td>1132</td>\n",
       "      <td>1035</td>\n",
       "      <td>6221</td>\n",
       "      <td>7649</td>\n",
       "    </tr>\n",
       "    <tr>\n",
       "      <th>16</th>\n",
       "      <td>THREE WHEELER (GOODS)</td>\n",
       "      <td>423</td>\n",
       "      <td>372</td>\n",
       "      <td>4513</td>\n",
       "      <td>5834</td>\n",
       "    </tr>\n",
       "    <tr>\n",
       "      <th>17</th>\n",
       "      <td>THREE WHEELER (PASSENGER)</td>\n",
       "      <td>1017</td>\n",
       "      <td>1116</td>\n",
       "      <td>2632</td>\n",
       "      <td>4206</td>\n",
       "    </tr>\n",
       "    <tr>\n",
       "      <th>13</th>\n",
       "      <td>MOTOR CYCLE/SCOOTER-USED FOR HIRE</td>\n",
       "      <td>1446</td>\n",
       "      <td>2095</td>\n",
       "      <td>1818</td>\n",
       "      <td>2925</td>\n",
       "    </tr>\n",
       "    <tr>\n",
       "      <th>11</th>\n",
       "      <td>MOTOR CAB</td>\n",
       "      <td>695</td>\n",
       "      <td>982</td>\n",
       "      <td>723</td>\n",
       "      <td>2070</td>\n",
       "    </tr>\n",
       "    <tr>\n",
       "      <th>2</th>\n",
       "      <td>BUS</td>\n",
       "      <td>467</td>\n",
       "      <td>85</td>\n",
       "      <td>1171</td>\n",
       "      <td>970</td>\n",
       "    </tr>\n",
       "    <tr>\n",
       "      <th>6</th>\n",
       "      <td>GOODS CARRIER</td>\n",
       "      <td>51</td>\n",
       "      <td>10</td>\n",
       "      <td>986</td>\n",
       "      <td>172</td>\n",
       "    </tr>\n",
       "  </tbody>\n",
       "</table>\n",
       "</div>"
      ],
      "text/plain": [
       "                              Vehicle  Sales 2019  Sales 2020  Sales 2021  \\\n",
       "8                     M-CYCLE/SCOOTER       22904       22965      125904   \n",
       "3                       E-RICKSHAW(P)      125653       80989      132399   \n",
       "12                          MOTOR CAR         679        3116       11681   \n",
       "10                              MOPED        2237        1167        9297   \n",
       "4             E-RICKSHAW WITH CART(G)        4494        5614       13869   \n",
       "14        MOTORISED CYCLE (CC > 25CC)        1132        1035        6221   \n",
       "16              THREE WHEELER (GOODS)         423         372        4513   \n",
       "17          THREE WHEELER (PASSENGER)        1017        1116        2632   \n",
       "13  MOTOR CYCLE/SCOOTER-USED FOR HIRE        1446        2095        1818   \n",
       "11                          MOTOR CAB         695         982         723   \n",
       "2                                 BUS         467          85        1171   \n",
       "6                       GOODS CARRIER          51          10         986   \n",
       "\n",
       "    Sales 2022  \n",
       "8       249409  \n",
       "3       133488  \n",
       "12       15912  \n",
       "10       13281  \n",
       "4        11400  \n",
       "14        7649  \n",
       "16        5834  \n",
       "17        4206  \n",
       "13        2925  \n",
       "11        2070  \n",
       "2          970  \n",
       "6          172  "
      ]
     },
     "execution_count": 17,
     "metadata": {},
     "output_type": "execute_result"
    }
   ],
   "source": [
    "df2.sort_values('Sales 2022',ascending=False)[:12]"
   ]
  },
  {
   "cell_type": "code",
   "execution_count": 18,
   "id": "1811dcca",
   "metadata": {},
   "outputs": [
    {
     "data": {
      "image/png": "[encoded data removed]",
      "text/plain": [
       "<Figure size 864x432 with 1 Axes>"
      ]
     },
     "metadata": {
      "needs_background": "light"
     },
     "output_type": "display_data"
    }
   ],
   "source": [
    "df2.sort_values('Sales 2022',ascending=False)[:6].plot(figsize=(12,6),x='Vehicle',y=['Sales 2019','Sales 2020','Sales 2021','Sales 2022'],kind='bar')\n",
    "plt.show()"
   ]
  },
  {
   "cell_type": "code",
   "execution_count": null,
   "id": "c4a520dd",
   "metadata": {},
   "outputs": [],
   "source": []
  },
  {
   "cell_type": "code",
   "execution_count": 24,
   "id": "19fe82b8",
   "metadata": {},
   "outputs": [
    {
     "data": {
      "text/plain": [
       "Index(['Sales 2019', 'Sales 2020', 'Sales 2021', 'Sales 2022'], dtype='object')"
      ]
     },
     "execution_count": 24,
     "metadata": {},
     "output_type": "execute_result"
    }
   ],
   "source": [
    "df.columns[2:]"
   ]
  },
  {
   "cell_type": "code",
   "execution_count": 21,
   "id": "eb639bad",
   "metadata": {},
   "outputs": [
    {
     "data": {
      "text/plain": [
       "161314"
      ]
     },
     "execution_count": 21,
     "metadata": {},
     "output_type": "execute_result"
    }
   ],
   "source": [
    "df2['Sales 2019'].sum()"
   ]
  },
  {
   "cell_type": "markdown",
   "id": "04cccc2e",
   "metadata": {},
   "source": []
  },
  {
   "cell_type": "code",
   "execution_count": 28,
   "id": "55cb7053",
   "metadata": {},
   "outputs": [
    {
     "data": {
      "text/plain": [
       "<BarContainer object of 4 artists>"
      ]
     },
     "execution_count": 28,
     "metadata": {},
     "output_type": "execute_result"
    },
    {
     "data": {
      "image/png": "[encoded data removed]",
      "text/plain": [
       "<Figure size 720x432 with 1 Axes>"
      ]
     },
     "metadata": {
      "needs_background": "light"
     },
     "output_type": "display_data"
    }
   ],
   "source": [
    "plt.figure(figsize=(10,6))\n",
    "plt.bar(x=df.columns[2:],height=[df2['Sales 2019'].sum(),df2['Sales 2020'].sum(),df2['Sales 2021'].sum(),df2['Sales 2022'].sum()])"
   ]
  },
  {
   "cell_type": "code",
   "execution_count": null,
   "id": "8c4b7396",
   "metadata": {},
   "outputs": [],
   "source": []
  }
 ],
 "metadata": {
  "kernelspec": {
   "display_name": "Python 3 (ipykernel)",
   "language": "python",
   "name": "python3"
  },
  "language_info": {
   "codemirror_mode": {
    "name": "ipython",
    "version": 3
   },
   "file_extension": ".py",
   "mimetype": "text/x-python",
   "name": "python",
   "nbconvert_exporter": "python",
   "pygments_lexer": "ipython3",
   "version": "3.9.7"
  }
 },
 "nbformat": 4,
 "nbformat_minor": 5
}
